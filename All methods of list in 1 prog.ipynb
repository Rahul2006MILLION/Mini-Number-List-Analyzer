{
 "cells": [
  {
   "cell_type": "code",
   "execution_count": 8,
   "id": "0efeb457-9d8f-4593-bab1-c5c7b4943e2d",
   "metadata": {},
   "outputs": [
    {
     "name": "stdin",
     "output_type": "stream",
     "text": [
      "Enter the size of element:  6\n",
      "Enter the number:  -1\n",
      "Enter the number:  0\n",
      "Enter the number:  5\n",
      "Enter the number:  4\n",
      "Enter the number:  4\n",
      "Enter the number:  -3\n"
     ]
    },
    {
     "name": "stdout",
     "output_type": "stream",
     "text": [
      "[-1, 0, 5, 4, 4, -3]\n",
      "Total Positive number: 3\n",
      "Percentage 50.000%\n",
      "Total Negative number: 2\n",
      "Percentage 33.333%\n",
      "Total Zero's: 1\n",
      "Percentage 16.667%\n",
      "Sum of List is: 9\n",
      "Maximum Number in that list: 5\n",
      "Minimum Number in that list: -3\n",
      "Average in that List: 1.50\n",
      "Unique Elements: [0, 4, 5, -3, -1]\n",
      "List after replacing even numbers with 0: [-1, 0, 5, 0, 0, -3]\n"
     ]
    }
   ],
   "source": [
    "leng=int(input(\"Enter the size of element: \"))\n",
    "l=[]\n",
    "pos=0\n",
    "neg=0\n",
    "zer=0\n",
    "for y in range(leng):\n",
    "    num=int(input(\"Enter the number: \"))\n",
    "    l.append(num)\n",
    "    if num<0:\n",
    "        neg+=1\n",
    "    elif num==0:\n",
    "        zer+=1\n",
    "    elif num>0:\n",
    "        pos+=1\n",
    "    \n",
    "print(l)\n",
    "print(f\"Total Positive number: {pos}\\nPercentage {(pos/leng)*100:3.3f}%\")\n",
    "print(f\"Total Negative number: {neg}\\nPercentage {(neg/leng)*100:3.3f}%\")\n",
    "print(f\"Total Zero's: {zer}\\nPercentage {(zer/leng)*100:3.3f}%\")\n",
    "print(f'Sum of List is: {sum(l)}')\n",
    "print(f'Maximum Number in that list: {max(l)}')\n",
    "print(f'Minimum Number in that list: {min(l)}')\n",
    "print(f\"Average in that List: {sum(l)/leng:3.2f}\")\n",
    "d=set(l)\n",
    "print(f\"Unique Elements: {list(d)}\")\n",
    "for i in range(leng):\n",
    "    if l[i]%2==0:\n",
    "        l[i]=0\n",
    "print(f\"List after replacing even numbers with 0: {l}\")"
   ]
  },
  {
   "cell_type": "code",
   "execution_count": null,
   "id": "fbff7d11-a813-4439-beb3-6852bd3c24a7",
   "metadata": {},
   "outputs": [],
   "source": []
  }
 ],
 "metadata": {
  "kernelspec": {
   "display_name": "Python 3 (ipykernel)",
   "language": "python",
   "name": "python3"
  },
  "language_info": {
   "codemirror_mode": {
    "name": "ipython",
    "version": 3
   },
   "file_extension": ".py",
   "mimetype": "text/x-python",
   "name": "python",
   "nbconvert_exporter": "python",
   "pygments_lexer": "ipython3",
   "version": "3.12.4"
  }
 },
 "nbformat": 4,
 "nbformat_minor": 5
}
